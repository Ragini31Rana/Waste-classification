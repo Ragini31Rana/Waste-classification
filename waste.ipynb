{
  "nbformat": 4,
  "nbformat_minor": 0,
  "metadata": {
    "colab": {
      "provenance": [],
      "authorship_tag": "ABX9TyN3ZZIOawOwlWXcGBhyVa5S",
      "include_colab_link": true
    },
    "kernelspec": {
      "name": "python3",
      "display_name": "Python 3"
    },
    "language_info": {
      "name": "python"
    }
  },
  "cells": [
    {
      "cell_type": "markdown",
      "metadata": {
        "id": "view-in-github",
        "colab_type": "text"
      },
      "source": [
        "<a href=\"https://colab.research.google.com/github/Ragini31Rana/Waste-classification/blob/main/waste.ipynb\" target=\"_parent\"><img src=\"https://colab.research.google.com/assets/colab-badge.svg\" alt=\"Open In Colab\"/></a>"
      ]
    },
    {
      "cell_type": "markdown",
      "source": [
        "Importing the libraries\n",
        "\n",
        "---"
      ],
      "metadata": {
        "id": "b3_FQsKQa_o1"
      }
    },
    {
      "cell_type": "code",
      "execution_count": 1,
      "metadata": {
        "id": "-XUwu4I0XUkd"
      },
      "outputs": [],
      "source": [
        "import tensorflow as tf\n",
        "import numpy as np\n",
        "import matplotlib.pyplot as plt\n",
        "import random\n",
        "import math"
      ]
    },
    {
      "cell_type": "markdown",
      "source": [
        "Acessing the google drive\n",
        "\n",
        "---\n"
      ],
      "metadata": {
        "id": "RWUl0OENbY1j"
      }
    },
    {
      "cell_type": "code",
      "source": [
        "from google.colab import drive\n",
        "drive.mount('/content/drive')"
      ],
      "metadata": {
        "id": "gC06oBbbl7vd",
        "colab": {
          "base_uri": "https://localhost:8080/"
        },
        "outputId": "f3dac738-1e08-4967-d957-0c572a92da4e"
      },
      "execution_count": 2,
      "outputs": [
        {
          "output_type": "stream",
          "name": "stdout",
          "text": [
            "Mounted at /content/drive\n"
          ]
        }
      ]
    },
    {
      "cell_type": "markdown",
      "source": [
        "Defining the path of the data in google drive\n",
        "\n",
        "---"
      ],
      "metadata": {
        "id": "6TG1LJRrbs0G"
      }
    },
    {
      "cell_type": "code",
      "source": [
        "DIR1 = \"/content/drive/MyDrive/Colab Notebooks/train data\"\n",
        "DIR2 = \"/content/drive/MyDrive/Colab Notebooks/test data\""
      ],
      "metadata": {
        "id": "vyK8EIWpgPdx"
      },
      "execution_count": 3,
      "outputs": []
    },
    {
      "cell_type": "markdown",
      "source": [
        "Defining the train and test data\n",
        "\n",
        "---"
      ],
      "metadata": {
        "id": "Ze3hpquCb3pr"
      }
    },
    {
      "cell_type": "code",
      "source": [
        "train_dataset = tf.keras.preprocessing.image_dataset_from_directory(DIR1,\n",
        "                                                                        validation_split=0.1,\n",
        "                                                                        subset=\"training\",\n",
        "                                                                        seed=42,\n",
        "                                                                        batch_size=128,\n",
        "                                                                        smart_resize=True,\n",
        "                                                                        image_size=(256, 256))\n",
        "test_dataset = tf.keras.preprocessing.image_dataset_from_directory(DIR2,\n",
        "                                                                       validation_split=0.1,\n",
        "                                                                       subset=\"validation\",\n",
        "                                                                       seed=42,\n",
        "                                                                       batch_size=128,\n",
        "                                                                       smart_resize=True,\n",
        "                                                                       image_size=(256, 256))"
      ],
      "metadata": {
        "colab": {
          "base_uri": "https://localhost:8080/"
        },
        "id": "XdX7eUl9d-Ct",
        "outputId": "8d78d408-6efa-462e-b78a-4f53578569a5"
      },
      "execution_count": 4,
      "outputs": [
        {
          "output_type": "stream",
          "name": "stdout",
          "text": [
            "Found 6612 files belonging to 9 classes.\n",
            "Using 5951 files for training.\n",
            "Found 1759 files belonging to 9 classes.\n",
            "Using 175 files for validation.\n"
          ]
        }
      ]
    },
    {
      "cell_type": "markdown",
      "source": [
        "Defining the classes\n",
        "\n",
        "---"
      ],
      "metadata": {
        "id": "pD4_szJKcCzM"
      }
    },
    {
      "cell_type": "code",
      "source": [
        "classes = train_dataset.class_names\n",
        "numClasses = len(train_dataset.class_names)\n",
        "print(classes)\n",
        "AUTOTUNE = tf.data.AUTOTUNE"
      ],
      "metadata": {
        "colab": {
          "base_uri": "https://localhost:8080/"
        },
        "id": "w7A8IzrKd-Fk",
        "outputId": "9e20d466-f3aa-4c2c-b87b-49c632c6c54a"
      },
      "execution_count": 5,
      "outputs": [
        {
          "output_type": "stream",
          "name": "stdout",
          "text": [
            "['batteries', 'clothes', 'e-waste', 'glass', 'light blubs', 'metal', 'organic', 'paper', 'plastic']\n"
          ]
        }
      ]
    },
    {
      "cell_type": "markdown",
      "source": [
        "Auto tuning the data for best performance\n",
        "\n",
        "---"
      ],
      "metadata": {
        "id": "sjHFNKlqr1bv"
      }
    },
    {
      "cell_type": "code",
      "source": [
        "train_dataset = train_dataset.prefetch(buffer_size=AUTOTUNE)\n",
        "test_dataset = test_dataset.prefetch(buffer_size=AUTOTUNE)\n"
      ],
      "metadata": {
        "id": "dzQpiXwGd-IZ"
      },
      "execution_count": 6,
      "outputs": []
    },
    {
      "cell_type": "markdown",
      "source": [
        "MobileNetV3Large pre-trained transfer learning model\n",
        "\n",
        "---"
      ],
      "metadata": {
        "id": "SjiLpDGrsBNE"
      }
    },
    {
      "cell_type": "code",
      "source": [
        "baseModel = tf.keras.applications.MobileNetV3Large(input_shape=(256, 256,3),\n",
        "                                                       weights='imagenet',\n",
        "                                                       include_top=False,\n",
        "                                                       classes=numClasses)"
      ],
      "metadata": {
        "colab": {
          "base_uri": "https://localhost:8080/"
        },
        "id": "rWq34elTd-MI",
        "outputId": "b716bce0-3c49-40e5-99fe-ab9d3fd0a658"
      },
      "execution_count": 7,
      "outputs": [
        {
          "output_type": "stream",
          "name": "stderr",
          "text": [
            "WARNING:tensorflow:`input_shape` is undefined or non-square, or `rows` is not 224. Weights for input shape (224, 224) will be loaded as the default.\n"
          ]
        },
        {
          "output_type": "stream",
          "name": "stdout",
          "text": [
            "Downloading data from https://storage.googleapis.com/tensorflow/keras-applications/mobilenet_v3/weights_mobilenet_v3_large_224_1.0_float_no_top_v2.h5\n",
            "12683000/12683000 [==============================] - 0s 0us/step\n"
          ]
        }
      ]
    },
    {
      "cell_type": "code",
      "source": [
        "for layers in baseModel.layers[:-6]:\n",
        "  layers.trainable=False"
      ],
      "metadata": {
        "id": "RnoPO-NAebd1"
      },
      "execution_count": 8,
      "outputs": []
    },
    {
      "cell_type": "code",
      "source": [
        "last_output = baseModel.layers[-1].output\n",
        "x = tf.keras.layers.Dropout(0.45) (last_output)\n",
        "x = tf.keras.layers.GlobalAveragePooling2D()(x)\n",
        "x = tf.keras.layers.BatchNormalization() (x)\n",
        "x = tf.keras.layers.Dense(256, activation = tf.keras.activations.elu,\n",
        "                              kernel_regularizer=tf.keras.regularizers.l1(0.045),\n",
        "                              activity_regularizer=tf.keras.regularizers.l1(0.045),\n",
        "                              kernel_initializer='he_normal')(x)\n",
        "x = tf.keras.layers.Dropout(0.45) (x)\n",
        "x = tf.keras.layers.Dense(numClasses, activation='softmax')(x)"
      ],
      "metadata": {
        "id": "KEqt2MXxebgS"
      },
      "execution_count": 9,
      "outputs": []
    },
    {
      "cell_type": "code",
      "source": [
        "model = tf.keras.Model(inputs=baseModel.input,outputs=x)\n"
      ],
      "metadata": {
        "id": "MhkagxZKebit"
      },
      "execution_count": 10,
      "outputs": []
    },
    {
      "cell_type": "markdown",
      "source": [
        "Compiling the model\n",
        "\n",
        "---"
      ],
      "metadata": {
        "id": "4IxF8uh2takG"
      }
    },
    {
      "cell_type": "code",
      "source": [
        "model.compile(optimizer=tf.keras.optimizers.Adam(learning_rate=0.00125),\n",
        "                  loss=tf.keras.losses.SparseCategoricalCrossentropy(from_logits=True),\n",
        "                      metrics=['accuracy'])"
      ],
      "metadata": {
        "id": "WLcKj1y8eblx"
      },
      "execution_count": 11,
      "outputs": []
    },
    {
      "cell_type": "markdown",
      "source": [
        "Training the model with 50 epochs\n",
        "\n",
        "---"
      ],
      "metadata": {
        "id": "nWeNQXSsti73"
      }
    },
    {
      "cell_type": "code",
      "source": [
        "epochs = 50\n",
        "history = model.fit(train_dataset, validation_data=test_dataset, epochs=epochs)"
      ],
      "metadata": {
        "colab": {
          "base_uri": "https://localhost:8080/"
        },
        "id": "m1ppZ_Fzebn0",
        "outputId": "4c996307-aa80-4680-fe2c-70a91b1640a6"
      },
      "execution_count": 12,
      "outputs": [
        {
          "output_type": "stream",
          "name": "stdout",
          "text": [
            "Epoch 1/50\n"
          ]
        },
        {
          "output_type": "stream",
          "name": "stderr",
          "text": [
            "/usr/local/lib/python3.10/dist-packages/keras/backend.py:5612: UserWarning: \"`sparse_categorical_crossentropy` received `from_logits=True`, but the `output` argument was produced by a Softmax activation and thus does not represent logits. Was this intended?\n",
            "  output, from_logits = _get_logits(\n"
          ]
        },
        {
          "output_type": "stream",
          "name": "stdout",
          "text": [
            "47/47 [==============================] - 805s 14s/step - loss: 207.6139 - accuracy: 0.5120 - val_loss: 57.8523 - val_accuracy: 0.7029\n",
            "Epoch 2/50\n",
            "47/47 [==============================] - 404s 8s/step - loss: 19.8533 - accuracy: 0.6369 - val_loss: 5.3799 - val_accuracy: 0.5029\n",
            "Epoch 3/50\n",
            "47/47 [==============================] - 409s 9s/step - loss: 4.4469 - accuracy: 0.4873 - val_loss: 4.1712 - val_accuracy: 0.4229\n",
            "Epoch 4/50\n",
            "47/47 [==============================] - 432s 9s/step - loss: 4.1340 - accuracy: 0.4261 - val_loss: 4.1373 - val_accuracy: 0.3829\n",
            "Epoch 5/50\n",
            "47/47 [==============================] - 398s 8s/step - loss: 4.1262 - accuracy: 0.4115 - val_loss: 4.1347 - val_accuracy: 0.3600\n",
            "Epoch 6/50\n",
            "47/47 [==============================] - 404s 8s/step - loss: 4.1230 - accuracy: 0.4016 - val_loss: 4.1453 - val_accuracy: 0.4000\n",
            "Epoch 7/50\n",
            "47/47 [==============================] - 403s 8s/step - loss: 4.1233 - accuracy: 0.4177 - val_loss: 4.1283 - val_accuracy: 0.3943\n",
            "Epoch 8/50\n",
            "47/47 [==============================] - 393s 8s/step - loss: 4.1126 - accuracy: 0.4498 - val_loss: 4.0780 - val_accuracy: 0.4114\n",
            "Epoch 9/50\n",
            "47/47 [==============================] - 397s 8s/step - loss: 4.0588 - accuracy: 0.4966 - val_loss: 4.0017 - val_accuracy: 0.4114\n",
            "Epoch 10/50\n",
            "47/47 [==============================] - 399s 8s/step - loss: 3.9810 - accuracy: 0.5450 - val_loss: 3.9525 - val_accuracy: 0.4800\n",
            "Epoch 11/50\n",
            "47/47 [==============================] - 405s 8s/step - loss: 3.8991 - accuracy: 0.5886 - val_loss: 3.8819 - val_accuracy: 0.4743\n",
            "Epoch 12/50\n",
            "47/47 [==============================] - 467s 10s/step - loss: 3.8271 - accuracy: 0.6343 - val_loss: 3.8491 - val_accuracy: 0.5543\n",
            "Epoch 13/50\n",
            "47/47 [==============================] - 399s 8s/step - loss: 3.7654 - accuracy: 0.6767 - val_loss: 3.8167 - val_accuracy: 0.5829\n",
            "Epoch 14/50\n",
            "47/47 [==============================] - 426s 9s/step - loss: 3.7222 - accuracy: 0.7133 - val_loss: 3.7467 - val_accuracy: 0.6514\n",
            "Epoch 15/50\n",
            "47/47 [==============================] - 403s 8s/step - loss: 3.6602 - accuracy: 0.7515 - val_loss: 3.7017 - val_accuracy: 0.6229\n",
            "Epoch 16/50\n",
            "47/47 [==============================] - 390s 8s/step - loss: 3.6257 - accuracy: 0.7587 - val_loss: 3.6555 - val_accuracy: 0.7029\n",
            "Epoch 17/50\n",
            "47/47 [==============================] - 401s 8s/step - loss: 3.5593 - accuracy: 0.7824 - val_loss: 3.5857 - val_accuracy: 0.7257\n",
            "Epoch 18/50\n",
            "47/47 [==============================] - 393s 8s/step - loss: 3.5266 - accuracy: 0.7852 - val_loss: 3.5796 - val_accuracy: 0.7257\n",
            "Epoch 19/50\n",
            "47/47 [==============================] - 416s 9s/step - loss: 3.4879 - accuracy: 0.7994 - val_loss: 3.4806 - val_accuracy: 0.7314\n",
            "Epoch 20/50\n",
            "47/47 [==============================] - 402s 8s/step - loss: 3.4465 - accuracy: 0.8081 - val_loss: 3.4877 - val_accuracy: 0.7600\n",
            "Epoch 21/50\n",
            "47/47 [==============================] - 391s 8s/step - loss: 3.4361 - accuracy: 0.8212 - val_loss: 3.4644 - val_accuracy: 0.7429\n",
            "Epoch 22/50\n",
            "47/47 [==============================] - 385s 8s/step - loss: 3.3699 - accuracy: 0.8237 - val_loss: 3.3893 - val_accuracy: 0.7886\n",
            "Epoch 23/50\n",
            "47/47 [==============================] - 415s 9s/step - loss: 3.3582 - accuracy: 0.8281 - val_loss: 3.3674 - val_accuracy: 0.7829\n",
            "Epoch 24/50\n",
            "47/47 [==============================] - 410s 9s/step - loss: 3.3406 - accuracy: 0.8298 - val_loss: 3.3137 - val_accuracy: 0.8114\n",
            "Epoch 25/50\n",
            "47/47 [==============================] - 388s 8s/step - loss: 3.3090 - accuracy: 0.8375 - val_loss: 3.3090 - val_accuracy: 0.8229\n",
            "Epoch 26/50\n",
            "47/47 [==============================] - 405s 8s/step - loss: 3.2704 - accuracy: 0.8513 - val_loss: 3.2547 - val_accuracy: 0.8343\n",
            "Epoch 27/50\n",
            "47/47 [==============================] - 405s 8s/step - loss: 3.2718 - accuracy: 0.8558 - val_loss: 3.2890 - val_accuracy: 0.8343\n",
            "Epoch 28/50\n",
            "47/47 [==============================] - 390s 8s/step - loss: 3.2734 - accuracy: 0.8518 - val_loss: 3.2096 - val_accuracy: 0.8686\n",
            "Epoch 29/50\n",
            "47/47 [==============================] - 398s 8s/step - loss: 3.2287 - accuracy: 0.8536 - val_loss: 3.2422 - val_accuracy: 0.8571\n",
            "Epoch 30/50\n",
            "47/47 [==============================] - 397s 8s/step - loss: 3.2663 - accuracy: 0.8548 - val_loss: 3.2148 - val_accuracy: 0.8514\n",
            "Epoch 31/50\n",
            "47/47 [==============================] - 393s 8s/step - loss: 3.2418 - accuracy: 0.8624 - val_loss: 3.2020 - val_accuracy: 0.8857\n",
            "Epoch 32/50\n",
            "47/47 [==============================] - 396s 8s/step - loss: 3.2122 - accuracy: 0.8641 - val_loss: 3.1795 - val_accuracy: 0.8743\n",
            "Epoch 33/50\n",
            "47/47 [==============================] - 403s 8s/step - loss: 3.2101 - accuracy: 0.8642 - val_loss: 3.1924 - val_accuracy: 0.8857\n",
            "Epoch 34/50\n",
            "47/47 [==============================] - 392s 8s/step - loss: 3.2146 - accuracy: 0.8731 - val_loss: 3.1505 - val_accuracy: 0.8857\n",
            "Epoch 35/50\n",
            "47/47 [==============================] - 398s 8s/step - loss: 3.2147 - accuracy: 0.8711 - val_loss: 3.1596 - val_accuracy: 0.8686\n",
            "Epoch 36/50\n",
            "47/47 [==============================] - 393s 8s/step - loss: 3.2042 - accuracy: 0.8800 - val_loss: 3.1259 - val_accuracy: 0.8914\n",
            "Epoch 37/50\n",
            "47/47 [==============================] - 379s 8s/step - loss: 3.1838 - accuracy: 0.8862 - val_loss: 3.1941 - val_accuracy: 0.8914\n",
            "Epoch 38/50\n",
            "47/47 [==============================] - 381s 8s/step - loss: 3.1630 - accuracy: 0.8874 - val_loss: 3.1648 - val_accuracy: 0.9029\n",
            "Epoch 39/50\n",
            "47/47 [==============================] - 397s 8s/step - loss: 3.1550 - accuracy: 0.8960 - val_loss: 3.2129 - val_accuracy: 0.8629\n",
            "Epoch 40/50\n",
            "47/47 [==============================] - 405s 8s/step - loss: 3.1699 - accuracy: 0.8940 - val_loss: 3.1364 - val_accuracy: 0.8857\n",
            "Epoch 41/50\n",
            "47/47 [==============================] - 393s 8s/step - loss: 3.1415 - accuracy: 0.8933 - val_loss: 3.2124 - val_accuracy: 0.8857\n",
            "Epoch 42/50\n",
            "47/47 [==============================] - 387s 8s/step - loss: 3.1311 - accuracy: 0.9034 - val_loss: 3.1827 - val_accuracy: 0.8857\n",
            "Epoch 43/50\n",
            "47/47 [==============================] - 401s 8s/step - loss: 3.1323 - accuracy: 0.9067 - val_loss: 3.1984 - val_accuracy: 0.9086\n",
            "Epoch 44/50\n",
            "47/47 [==============================] - 386s 8s/step - loss: 3.1587 - accuracy: 0.9062 - val_loss: 3.1254 - val_accuracy: 0.8743\n",
            "Epoch 45/50\n",
            "47/47 [==============================] - 393s 8s/step - loss: 3.1046 - accuracy: 0.9146 - val_loss: 3.1556 - val_accuracy: 0.8914\n",
            "Epoch 46/50\n",
            "47/47 [==============================] - 399s 8s/step - loss: 3.1036 - accuracy: 0.9151 - val_loss: 3.1265 - val_accuracy: 0.8743\n",
            "Epoch 47/50\n",
            "47/47 [==============================] - 401s 8s/step - loss: 3.0726 - accuracy: 0.9178 - val_loss: 3.1054 - val_accuracy: 0.9143\n",
            "Epoch 48/50\n",
            "47/47 [==============================] - 409s 9s/step - loss: 3.0858 - accuracy: 0.9192 - val_loss: 3.1091 - val_accuracy: 0.9029\n",
            "Epoch 49/50\n",
            "47/47 [==============================] - 394s 8s/step - loss: 3.0338 - accuracy: 0.9296 - val_loss: 3.0916 - val_accuracy: 0.9086\n",
            "Epoch 50/50\n",
            "47/47 [==============================] - 398s 8s/step - loss: 3.0081 - accuracy: 0.9331 - val_loss: 3.1140 - val_accuracy: 0.8971\n"
          ]
        }
      ]
    },
    {
      "cell_type": "markdown",
      "source": [
        "Plotting the train and validation data accuracy\n",
        "\n",
        "---"
      ],
      "metadata": {
        "id": "EPVqOPD3tsr0"
      }
    },
    {
      "cell_type": "code",
      "source": [
        "plt.plot(history.history['accuracy'],color='red',label='train accuracy')\n",
        "plt.plot(history.history['val_accuracy'],color='blue',label='validation accuracy')\n",
        "plt.legend()\n",
        "plt.show()"
      ],
      "metadata": {
        "colab": {
          "base_uri": "https://localhost:8080/",
          "height": 430
        },
        "id": "xhiPoOGjebqo",
        "outputId": "81ee9fb5-cfcf-44d3-9960-d9f805f30d1a"
      },
      "execution_count": 13,
      "outputs": [
        {
          "output_type": "display_data",
          "data": {
            "text/plain": [
              "<Figure size 640x480 with 1 Axes>"
            ],
            "image/png": "[encoded data removed]"
          },
          "metadata": {}
        }
      ]
    },
    {
      "cell_type": "markdown",
      "source": [
        "Plotting the train and validata loss\n",
        "\n",
        "---"
      ],
      "metadata": {
        "id": "jvFRgVAMt1rP"
      }
    },
    {
      "cell_type": "code",
      "source": [
        "plt.plot(history.history['loss'],color='red',label='train loss')\n",
        "plt.plot(history.history['val_loss'],color='blue',label='validation loss')\n",
        "plt.legend()\n",
        "plt.show()"
      ],
      "metadata": {
        "colab": {
          "base_uri": "https://localhost:8080/",
          "height": 430
        },
        "id": "YcxuoK-Lebs0",
        "outputId": "4a292c0b-7077-482e-da6d-0f523a1eeb21"
      },
      "execution_count": 14,
      "outputs": [
        {
          "output_type": "display_data",
          "data": {
            "text/plain": [
              "<Figure size 640x480 with 1 Axes>"
            ],
            "image/png": "[encoded data removed]"
          },
          "metadata": {}
        }
      ]
    },
    {
      "cell_type": "markdown",
      "source": [
        "Function to predict the waste material\n",
        "\n",
        "---"
      ],
      "metadata": {
        "id": "i79fToOtt-U8"
      }
    },
    {
      "cell_type": "code",
      "source": [
        "output_class = [\"batteries\", \"clothes\", \"e-waste\", \"glass\", \"light blubs\", \"metal\", \"organic\", \"paper\", \"plastic\"]\n",
        "def waste_prediction(new_image):\n",
        "  img = tf.keras.preprocessing.image.load_img(new_image, target_size=(256, 256))\n",
        "  img_array = tf.keras.preprocessing.image.img_to_array(img)\n",
        "  img_array = tf.expand_dims(img_array, 0)\n",
        "  plt.axis(\"off\")\n",
        "  plt.imshow(img)\n",
        "  plt.show()\n",
        "  predictions = model.predict(img_array)\n",
        "  value=output_class[np.argmax(predictions)]\n",
        "  predicted_accuracy = round(np.max(predictions) * 100, 2)\n",
        "\n",
        "  print(\"Your waste material is \", value, \" with \", predicted_accuracy, \" % accuracy\")"
      ],
      "metadata": {
        "id": "dA73dJhiebwy"
      },
      "execution_count": 15,
      "outputs": []
    },
    {
      "cell_type": "markdown",
      "source": [
        "Saving the model in hdf5 format\n",
        "\n",
        "---"
      ],
      "metadata": {
        "id": "9-9px--xugSV"
      }
    },
    {
      "cell_type": "code",
      "source": [
        "tf.keras.models.save_model(model,'my_model2.hdf5')\n"
      ],
      "metadata": {
        "id": "SQbutNL2it_I"
      },
      "execution_count": 16,
      "outputs": []
    },
    {
      "cell_type": "markdown",
      "source": [
        "Installing streamlit for creating web apps\n",
        "\n",
        "---"
      ],
      "metadata": {
        "id": "EOBlmSMmuka6"
      }
    },
    {
      "cell_type": "code",
      "source": [
        "!pip install streamlit"
      ],
      "metadata": {
        "colab": {
          "base_uri": "https://localhost:8080/"
        },
        "id": "MQ7fV4M-jEz2",
        "outputId": "68ec5856-0b06-4c2a-ed19-89e378182a91"
      },
      "execution_count": 17,
      "outputs": [
        {
          "output_type": "stream",
          "name": "stdout",
          "text": [
            "Collecting streamlit\n",
            "  Downloading streamlit-1.24.1-py2.py3-none-any.whl (8.9 MB)\n",
            "\u001b[2K     \u001b[90m━━━━━━━━━━━━━━━━━━━━━━━━━━━━━━━━━━━━━━━━\u001b[0m \u001b[32m8.9/8.9 MB\u001b[0m \u001b[31m45.9 MB/s\u001b[0m eta \u001b[36m0:00:00\u001b[0m\n",
            "\u001b[?25hRequirement already satisfied: altair<6,>=4.0 in /usr/local/lib/python3.10/dist-packages (from streamlit) (4.2.2)\n",
            "Collecting blinker<2,>=1.0.0 (from streamlit)\n",
            "  Downloading blinker-1.6.2-py3-none-any.whl (13 kB)\n",
            "Requirement already satisfied: cachetools<6,>=4.0 in /usr/local/lib/python3.10/dist-packages (from streamlit) (5.3.1)\n",
            "Requirement already satisfied: click<9,>=7.0 in /usr/local/lib/python3.10/dist-packages (from streamlit) (8.1.4)\n",
            "Collecting importlib-metadata<7,>=1.4 (from streamlit)\n",
            "  Downloading importlib_metadata-6.8.0-py3-none-any.whl (22 kB)\n",
            "Requirement already satisfied: numpy<2,>=1 in /usr/local/lib/python3.10/dist-packages (from streamlit) (1.22.4)\n",
            "Requirement already satisfied: packaging<24,>=14.1 in /usr/local/lib/python3.10/dist-packages (from streamlit) (23.1)\n",
            "Requirement already satisfied: pandas<3,>=0.25 in /usr/local/lib/python3.10/dist-packages (from streamlit) (1.5.3)\n",
            "Requirement already satisfied: pillow<10,>=6.2.0 in /usr/local/lib/python3.10/dist-packages (from streamlit) (8.4.0)\n",
            "Requirement already satisfied: protobuf<5,>=3.20 in /usr/local/lib/python3.10/dist-packages (from streamlit) (3.20.3)\n",
            "Requirement already satisfied: pyarrow>=4.0 in /usr/local/lib/python3.10/dist-packages (from streamlit) (9.0.0)\n",
            "Collecting pympler<2,>=0.9 (from streamlit)\n",
            "  Downloading Pympler-1.0.1-py3-none-any.whl (164 kB)\n",
            "\u001b[2K     \u001b[90m━━━━━━━━━━━━━━━━━━━━━━━━━━━━━━━━━━━━━━\u001b[0m \u001b[32m164.8/164.8 kB\u001b[0m \u001b[31m15.4 MB/s\u001b[0m eta \u001b[36m0:00:00\u001b[0m\n",
            "\u001b[?25hRequirement already satisfied: python-dateutil<3,>=2 in /usr/local/lib/python3.10/dist-packages (from streamlit) (2.8.2)\n",
            "Requirement already satisfied: requests<3,>=2.4 in /usr/local/lib/python3.10/dist-packages (from streamlit) (2.27.1)\n",
            "Requirement already satisfied: rich<14,>=10.11.0 in /usr/local/lib/python3.10/dist-packages (from streamlit) (13.4.2)\n",
            "Requirement already satisfied: tenacity<9,>=8.0.0 in /usr/local/lib/python3.10/dist-packages (from streamlit) (8.2.2)\n",
            "Requirement already satisfied: toml<2 in /usr/local/lib/python3.10/dist-packages (from streamlit) (0.10.2)\n",
            "Requirement already satisfied: typing-extensions<5,>=4.0.1 in /usr/local/lib/python3.10/dist-packages (from streamlit) (4.7.1)\n",
            "Collecting tzlocal<5,>=1.1 (from streamlit)\n",
            "  Downloading tzlocal-4.3.1-py3-none-any.whl (20 kB)\n",
            "Collecting validators<1,>=0.2 (from streamlit)\n",
            "  Downloading validators-0.20.0.tar.gz (30 kB)\n",
            "  Preparing metadata (setup.py) ... \u001b[?25l\u001b[?25hdone\n",
            "Collecting gitpython!=3.1.19,<4,>=3 (from streamlit)\n",
            "  Downloading GitPython-3.1.32-py3-none-any.whl (188 kB)\n",
            "\u001b[2K     \u001b[90m━━━━━━━━━━━━━━━━━━━━━━━━━━━━━━━━━━━━━━\u001b[0m \u001b[32m188.5/188.5 kB\u001b[0m \u001b[31m15.3 MB/s\u001b[0m eta \u001b[36m0:00:00\u001b[0m\n",
            "\u001b[?25hCollecting pydeck<1,>=0.1.dev5 (from streamlit)\n",
            "  Downloading pydeck-0.8.1b0-py2.py3-none-any.whl (4.8 MB)\n",
            "\u001b[2K     \u001b[90m━━━━━━━━━━━━━━━━━━━━━━━━━━━━━━━━━━━━━━━━\u001b[0m \u001b[32m4.8/4.8 MB\u001b[0m \u001b[31m61.3 MB/s\u001b[0m eta \u001b[36m0:00:00\u001b[0m\n",
            "\u001b[?25hRequirement already satisfied: tornado<7,>=6.0.3 in /usr/local/lib/python3.10/dist-packages (from streamlit) (6.3.1)\n",
            "Collecting watchdog (from streamlit)\n",
            "  Downloading watchdog-3.0.0-py3-none-manylinux2014_x86_64.whl (82 kB)\n",
            "\u001b[2K     \u001b[90m━━━━━━━━━━━━━━━━━━━━━━━━━━━━━━━━━━━━━━━━\u001b[0m \u001b[32m82.1/82.1 kB\u001b[0m \u001b[31m8.1 MB/s\u001b[0m eta \u001b[36m0:00:00\u001b[0m\n",
            "\u001b[?25hRequirement already satisfied: entrypoints in /usr/local/lib/python3.10/dist-packages (from altair<6,>=4.0->streamlit) (0.4)\n",
            "Requirement already satisfied: jinja2 in /usr/local/lib/python3.10/dist-packages (from altair<6,>=4.0->streamlit) (3.1.2)\n",
            "Requirement already satisfied: jsonschema>=3.0 in /usr/local/lib/python3.10/dist-packages (from altair<6,>=4.0->streamlit) (4.3.3)\n",
            "Requirement already satisfied: toolz in /usr/local/lib/python3.10/dist-packages (from altair<6,>=4.0->streamlit) (0.12.0)\n",
            "Collecting gitdb<5,>=4.0.1 (from gitpython!=3.1.19,<4,>=3->streamlit)\n",
            "  Downloading gitdb-4.0.10-py3-none-any.whl (62 kB)\n",
            "\u001b[2K     \u001b[90m━━━━━━━━━━━━━━━━━━━━━━━━━━━━━━━━━━━━━━━━\u001b[0m \u001b[32m62.7/62.7 kB\u001b[0m \u001b[31m5.2 MB/s\u001b[0m eta \u001b[36m0:00:00\u001b[0m\n",
            "\u001b[?25hRequirement already satisfied: zipp>=0.5 in /usr/local/lib/python3.10/dist-packages (from importlib-metadata<7,>=1.4->streamlit) (3.16.1)\n",
            "Requirement already satisfied: pytz>=2020.1 in /usr/local/lib/python3.10/dist-packages (from pandas<3,>=0.25->streamlit) (2022.7.1)\n",
            "Requirement already satisfied: six>=1.5 in /usr/local/lib/python3.10/dist-packages (from python-dateutil<3,>=2->streamlit) (1.16.0)\n",
            "Requirement already satisfied: urllib3<1.27,>=1.21.1 in /usr/local/lib/python3.10/dist-packages (from requests<3,>=2.4->streamlit) (1.26.16)\n",
            "Requirement already satisfied: certifi>=2017.4.17 in /usr/local/lib/python3.10/dist-packages (from requests<3,>=2.4->streamlit) (2023.5.7)\n",
            "Requirement already satisfied: charset-normalizer~=2.0.0 in /usr/local/lib/python3.10/dist-packages (from requests<3,>=2.4->streamlit) (2.0.12)\n",
            "Requirement already satisfied: idna<4,>=2.5 in /usr/local/lib/python3.10/dist-packages (from requests<3,>=2.4->streamlit) (3.4)\n",
            "Requirement already satisfied: markdown-it-py>=2.2.0 in /usr/local/lib/python3.10/dist-packages (from rich<14,>=10.11.0->streamlit) (3.0.0)\n",
            "Requirement already satisfied: pygments<3.0.0,>=2.13.0 in /usr/local/lib/python3.10/dist-packages (from rich<14,>=10.11.0->streamlit) (2.14.0)\n",
            "Collecting pytz-deprecation-shim (from tzlocal<5,>=1.1->streamlit)\n",
            "  Downloading pytz_deprecation_shim-0.1.0.post0-py2.py3-none-any.whl (15 kB)\n",
            "Requirement already satisfied: decorator>=3.4.0 in /usr/local/lib/python3.10/dist-packages (from validators<1,>=0.2->streamlit) (4.4.2)\n",
            "Collecting smmap<6,>=3.0.1 (from gitdb<5,>=4.0.1->gitpython!=3.1.19,<4,>=3->streamlit)\n",
            "  Downloading smmap-5.0.0-py3-none-any.whl (24 kB)\n",
            "Requirement already satisfied: MarkupSafe>=2.0 in /usr/local/lib/python3.10/dist-packages (from jinja2->altair<6,>=4.0->streamlit) (2.1.3)\n",
            "Requirement already satisfied: attrs>=17.4.0 in /usr/local/lib/python3.10/dist-packages (from jsonschema>=3.0->altair<6,>=4.0->streamlit) (23.1.0)\n",
            "Requirement already satisfied: pyrsistent!=0.17.0,!=0.17.1,!=0.17.2,>=0.14.0 in /usr/local/lib/python3.10/dist-packages (from jsonschema>=3.0->altair<6,>=4.0->streamlit) (0.19.3)\n",
            "Requirement already satisfied: mdurl~=0.1 in /usr/local/lib/python3.10/dist-packages (from markdown-it-py>=2.2.0->rich<14,>=10.11.0->streamlit) (0.1.2)\n",
            "Collecting tzdata (from pytz-deprecation-shim->tzlocal<5,>=1.1->streamlit)\n",
            "  Downloading tzdata-2023.3-py2.py3-none-any.whl (341 kB)\n",
            "\u001b[2K     \u001b[90m━━━━━━━━━━━━━━━━━━━━━━━━━━━━━━━━━━━━━━\u001b[0m \u001b[32m341.8/341.8 kB\u001b[0m \u001b[31m29.0 MB/s\u001b[0m eta \u001b[36m0:00:00\u001b[0m\n",
            "\u001b[?25hBuilding wheels for collected packages: validators\n",
            "  Building wheel for validators (setup.py) ... \u001b[?25l\u001b[?25hdone\n",
            "  Created wheel for validators: filename=validators-0.20.0-py3-none-any.whl size=19579 sha256=24e0a6b2fc6694bdc86f3b1293ebb6db5402d02c732ff31ab3f458ec49b19569\n",
            "  Stored in directory: /root/.cache/pip/wheels/f2/ed/dd/d3a556ad245ef9dc570c6bcd2f22886d17b0b408dd3bbb9ac3\n",
            "Successfully built validators\n",
            "Installing collected packages: watchdog, validators, tzdata, smmap, pympler, importlib-metadata, blinker, pytz-deprecation-shim, pydeck, gitdb, tzlocal, gitpython, streamlit\n",
            "  Attempting uninstall: tzlocal\n",
            "    Found existing installation: tzlocal 5.0.1\n",
            "    Uninstalling tzlocal-5.0.1:\n",
            "      Successfully uninstalled tzlocal-5.0.1\n",
            "Successfully installed blinker-1.6.2 gitdb-4.0.10 gitpython-3.1.32 importlib-metadata-6.8.0 pydeck-0.8.1b0 pympler-1.0.1 pytz-deprecation-shim-0.1.0.post0 smmap-5.0.0 streamlit-1.24.1 tzdata-2023.3 tzlocal-4.3.1 validators-0.20.0 watchdog-3.0.0\n"
          ]
        }
      ]
    },
    {
      "cell_type": "markdown",
      "source": [
        "Writing the predict function in a different python file\n",
        "\n",
        "---"
      ],
      "metadata": {
        "id": "JH0xZBMBxats"
      }
    },
    {
      "cell_type": "code",
      "source": [
        "%%writefile app.py\n",
        "import streamlit as st\n",
        "import tensorflow as tf\n",
        "import streamlit as st\n",
        "\n",
        "@st.cache_resource     #(allow_output_mutation=True)\n",
        "def load_model():\n",
        "  model=tf.keras.models.load_model('/content/my_model2.hdf5')\n",
        "  return model\n",
        "with st.spinner('Model is being loaded..'):\n",
        "  model=load_model()\n",
        "\n",
        "st.write(\"\"\"\n",
        "         # Waste Classification\n",
        "         \"\"\"\n",
        "         )\n",
        "file = st.file_uploader(\"Please upload an brain scan file\", type=[\"jpg\", \"png\"])\n",
        "#pip install opencv-python\n",
        "import cv2\n",
        "from PIL import Image, ImageOps\n",
        "import numpy as np\n",
        "st.set_option('deprecation.showfileUploaderEncoding', False)\n",
        "def import_and_predict(image_data, model):\n",
        "    size = (256,256)\n",
        "    image = ImageOps.fit(image_data, size, Image.ANTIALIAS)\n",
        "    image = np.asarray(image)\n",
        "    img = cv2.cvtColor(image, cv2.COLOR_BGR2RGB)\n",
        "        #img_resize = (cv2.resize(img, dsize=(75, 75),    interpolation=cv2.INTER_CUBIC))/255.\n",
        "\n",
        "    img_reshape = img[np.newaxis,...]\n",
        "\n",
        "    prediction = model.predict(img_reshape)\n",
        "\n",
        "    return prediction\n",
        "\n",
        "    print(\"Your waste material is \", value, \" with \", predicted_accuracy, \" % accuracy\")\n",
        "if file is None:\n",
        "    st.text(\"Please upload an image file\")\n",
        "else:\n",
        "    image = Image.open(file)\n",
        "    st.image(image, use_column_width=True)\n",
        "    predictions = import_and_predict(image, model)\n",
        "    class_names = [\"batteries\", \"clothes\", \"e-waste\", \"glass\", \"light blubs\", \"metal\", \"organic\", \"paper\", \"plastic\"]\n",
        "    score = tf.nn.softmax(predictions[0])\n",
        "    string = 'This image is: '+class_names[np.argmax(predictions)]\n",
        "    st.success(string)\n",
        "    #st.write(predictions)\n",
        "    #st.write(score)\n",
        "    print(\n",
        "    \"This image most likely belongs to {} with a {:.2f} percent confidence.\"\n",
        "    .format(class_names[np.argmax(score)], 100 * np.max(score))\n",
        ")\n"
      ],
      "metadata": {
        "colab": {
          "base_uri": "https://localhost:8080/"
        },
        "id": "tplQwNdViHqq",
        "outputId": "0aa52112-dbd5-462f-c68d-94c04369cc5d"
      },
      "execution_count": 34,
      "outputs": [
        {
          "output_type": "stream",
          "name": "stdout",
          "text": [
            "Overwriting app.py\n"
          ]
        }
      ]
    },
    {
      "cell_type": "markdown",
      "source": [
        "Deployment of the model using ngrok\n",
        "\n",
        "---"
      ],
      "metadata": {
        "id": "loAHiIV2xvMb"
      }
    },
    {
      "cell_type": "code",
      "source": [
        "!pip install pyngrok"
      ],
      "metadata": {
        "colab": {
          "base_uri": "https://localhost:8080/"
        },
        "id": "gxMz--pHiHta",
        "outputId": "3e0570c1-b8ec-4d84-c45a-4c855c70a5cb"
      },
      "execution_count": 19,
      "outputs": [
        {
          "output_type": "stream",
          "name": "stdout",
          "text": [
            "Collecting pyngrok\n",
            "  Downloading pyngrok-6.0.0.tar.gz (681 kB)\n",
            "\u001b[?25l     \u001b[90m━━━━━━━━━━━━━━━━━━━━━━━━━━━━━━━━━━━━━━━━\u001b[0m \u001b[32m0.0/681.2 kB\u001b[0m \u001b[31m?\u001b[0m eta \u001b[36m-:--:--\u001b[0m\r\u001b[2K     \u001b[91m━━━━━━━━━━━━━━━━━━━━━━━━\u001b[0m\u001b[91m╸\u001b[0m\u001b[90m━━━━━━━━━━━━━\u001b[0m \u001b[32m440.3/681.2 kB\u001b[0m \u001b[31m12.8 MB/s\u001b[0m eta \u001b[36m0:00:01\u001b[0m\r\u001b[2K     \u001b[90m━━━━━━━━━━━━━━━━━━━━━━━━━━━━━━━━━━━━━━\u001b[0m \u001b[32m681.2/681.2 kB\u001b[0m \u001b[31m10.7 MB/s\u001b[0m eta \u001b[36m0:00:00\u001b[0m\n",
            "\u001b[?25h  Preparing metadata (setup.py) ... \u001b[?25l\u001b[?25hdone\n",
            "Requirement already satisfied: PyYAML in /usr/local/lib/python3.10/dist-packages (from pyngrok) (6.0)\n",
            "Building wheels for collected packages: pyngrok\n",
            "  Building wheel for pyngrok (setup.py) ... \u001b[?25l\u001b[?25hdone\n",
            "  Created wheel for pyngrok: filename=pyngrok-6.0.0-py3-none-any.whl size=19867 sha256=6c085a0622ce72b7764642958653ca19e3adfb4bf172d7328cee596b4218640e\n",
            "  Stored in directory: /root/.cache/pip/wheels/5c/42/78/0c3d438d7f5730451a25f7ac6cbf4391759d22a67576ed7c2c\n",
            "Successfully built pyngrok\n",
            "Installing collected packages: pyngrok\n",
            "Successfully installed pyngrok-6.0.0\n"
          ]
        }
      ]
    },
    {
      "cell_type": "code",
      "source": [
        "!ngrok authtoken 2ShhPkAssfCQxFMeUtMTE11GTrG_6LHLfyzcFYhKgcAP3QcGZ"
      ],
      "metadata": {
        "colab": {
          "base_uri": "https://localhost:8080/"
        },
        "id": "dHnSxQQukljp",
        "outputId": "615b7db4-4c86-4658-e8ab-bd202da9567b"
      },
      "execution_count": 20,
      "outputs": [
        {
          "output_type": "stream",
          "name": "stdout",
          "text": [
            "Authtoken saved to configuration file: /root/.ngrok2/ngrok.yml\n"
          ]
        }
      ]
    },
    {
      "cell_type": "code",
      "source": [
        "!nohup streamlit run app.py &"
      ],
      "metadata": {
        "colab": {
          "base_uri": "https://localhost:8080/"
        },
        "id": "OjrHLHEEkmOW",
        "outputId": "bc466570-8ba0-4454-c37e-02f242b4a243"
      },
      "execution_count": 35,
      "outputs": [
        {
          "output_type": "stream",
          "name": "stdout",
          "text": [
            "nohup: appending output to 'nohup.out'\n"
          ]
        }
      ]
    },
    {
      "cell_type": "code",
      "source": [
        "!wget https://bin.equinox.io/c/4VmDzA7iaHb/ngrok-stable-linux-amd64.zip"
      ],
      "metadata": {
        "colab": {
          "base_uri": "https://localhost:8080/"
        },
        "id": "znpsLjMQiH15",
        "outputId": "bc30dac4-849f-42eb-d3ad-7a0e7aa8e5e9"
      },
      "execution_count": 29,
      "outputs": [
        {
          "output_type": "stream",
          "name": "stdout",
          "text": [
            "--2023-07-19 10:35:49--  https://bin.equinox.io/c/4VmDzA7iaHb/ngrok-stable-linux-amd64.zip\n",
            "Resolving bin.equinox.io (bin.equinox.io)... 18.205.222.128, 52.202.168.65, 54.161.241.46, ...\n",
            "Connecting to bin.equinox.io (bin.equinox.io)|18.205.222.128|:443... connected.\n",
            "HTTP request sent, awaiting response... 200 OK\n",
            "Length: 13921656 (13M) [application/octet-stream]\n",
            "Saving to: ‘ngrok-stable-linux-amd64.zip.1’\n",
            "\n",
            "ngrok-stable-linux- 100%[===================>]  13.28M  38.2MB/s    in 0.3s    \n",
            "\n",
            "2023-07-19 10:35:49 (38.2 MB/s) - ‘ngrok-stable-linux-amd64.zip.1’ saved [13921656/13921656]\n",
            "\n"
          ]
        }
      ]
    },
    {
      "cell_type": "code",
      "source": [
        "!unzip ngrok-stable-linux-amd64.zip"
      ],
      "metadata": {
        "colab": {
          "base_uri": "https://localhost:8080/"
        },
        "id": "rUNJN_MviH3a",
        "outputId": "422e013d-f3b5-44e5-e1ee-2b270257849a"
      },
      "execution_count": 36,
      "outputs": [
        {
          "output_type": "stream",
          "name": "stdout",
          "text": [
            "Archive:  ngrok-stable-linux-amd64.zip\n",
            "replace ngrok? [y]es, [n]o, [A]ll, [N]one, [r]ename: y\n",
            "  inflating: ngrok                   \n"
          ]
        }
      ]
    },
    {
      "cell_type": "code",
      "source": [
        "get_ipython().system_raw('./ngrok http 8501 &')"
      ],
      "metadata": {
        "id": "amBhZgVWiH6U"
      },
      "execution_count": 37,
      "outputs": []
    },
    {
      "cell_type": "code",
      "source": [
        "!curl -s http://localhost:4040/api/tunnels | python3 -c \\\n",
        "  'import sys, json; print(\"Execute the next cell and the go to the following URL: \" +json.load(sys.stdin)[\"tunnels\"][0][\"public_url\"])'\n"
      ],
      "metadata": {
        "colab": {
          "base_uri": "https://localhost:8080/"
        },
        "id": "nq9LvIqJiH_r",
        "outputId": "386c881f-47eb-43fa-f15f-abd49df44d8c"
      },
      "execution_count": 38,
      "outputs": [
        {
          "output_type": "stream",
          "name": "stdout",
          "text": [
            "Execute the next cell and the go to the following URL: https://c2d5-35-202-121-105.ngrok-free.app\n"
          ]
        }
      ]
    },
    {
      "cell_type": "code",
      "source": [
        "!streamlit run /content/app.py"
      ],
      "metadata": {
        "colab": {
          "base_uri": "https://localhost:8080/"
        },
        "id": "uz-S854ciIA8",
        "outputId": "35c2946a-e1fa-4101-dcd7-1815c84f58ad"
      },
      "execution_count": 39,
      "outputs": [
        {
          "output_type": "stream",
          "name": "stdout",
          "text": [
            "\n",
            "Collecting usage statistics. To deactivate, set browser.gatherUsageStats to False.\n",
            "\u001b[0m\n",
            "\u001b[0m\n",
            "\u001b[34m\u001b[1m  You can now view your Streamlit app in your browser.\u001b[0m\n",
            "\u001b[0m\n",
            "\u001b[34m  Network URL: \u001b[0m\u001b[1mhttp://172.28.0.12:8502\u001b[0m\n",
            "\u001b[34m  External URL: \u001b[0m\u001b[1mhttp://35.202.121.105:8502\u001b[0m\n",
            "\u001b[0m\n",
            "\u001b[34m  Stopping...\u001b[0m\n",
            "\u001b[34m  Stopping...\u001b[0m\n"
          ]
        }
      ]
    }
  ]
}